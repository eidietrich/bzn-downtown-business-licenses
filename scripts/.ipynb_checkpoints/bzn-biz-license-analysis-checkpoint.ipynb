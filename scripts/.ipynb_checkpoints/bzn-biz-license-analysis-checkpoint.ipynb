{
 "cells": [
  {
   "cell_type": "code",
   "execution_count": 1,
   "metadata": {
    "collapsed": true
   },
   "outputs": [],
   "source": [
    "import pandas as pd\n",
    "from __future__ import division\n",
    "\n",
    "pd.set_option('display.max_columns',100)\n",
    "pd.set_option('display.max_rows',200)"
   ]
  },
  {
   "cell_type": "code",
   "execution_count": 3,
   "metadata": {
    "collapsed": false
   },
   "outputs": [],
   "source": [
    "df = pd.read_csv('./../working-data/bzn-biz-licenses.csv')"
   ]
  },
  {
   "cell_type": "code",
   "execution_count": 4,
   "metadata": {
    "collapsed": false
   },
   "outputs": [
    {
     "name": "stdout",
     "output_type": "stream",
     "text": [
      "Index([u'biz_name', u'license_num', u'control_num', u'resp_dept_code',\n",
      "       u'resp_dept_descr', u'class_code', u'class_descr', u'fiscal_year',\n",
      "       u'license_status', u'code_descr', u'status_date', u'application_date',\n",
      "       u'issue_date', u'licen_exp_date', u'renew_date', u'location_id',\n",
      "       u'street_num', u'street_pre_qual', u'street_dir_code', u'street_name',\n",
      "       u'street_suffix', u'street_post_qual', u'street_apt_num',\n",
      "       u'class_desc_cat', u'class_desc_detail'],\n",
      "      dtype='object')\n"
     ]
    },
    {
     "data": {
      "text/html": [
       "<div>\n",
       "<table border=\"1\" class=\"dataframe\">\n",
       "  <thead>\n",
       "    <tr style=\"text-align: right;\">\n",
       "      <th></th>\n",
       "      <th>biz_name</th>\n",
       "      <th>license_num</th>\n",
       "      <th>control_num</th>\n",
       "      <th>resp_dept_code</th>\n",
       "      <th>resp_dept_descr</th>\n",
       "      <th>class_code</th>\n",
       "      <th>class_descr</th>\n",
       "      <th>fiscal_year</th>\n",
       "      <th>license_status</th>\n",
       "      <th>code_descr</th>\n",
       "      <th>status_date</th>\n",
       "      <th>application_date</th>\n",
       "      <th>issue_date</th>\n",
       "      <th>licen_exp_date</th>\n",
       "      <th>renew_date</th>\n",
       "      <th>location_id</th>\n",
       "      <th>street_num</th>\n",
       "      <th>street_pre_qual</th>\n",
       "      <th>street_dir_code</th>\n",
       "      <th>street_name</th>\n",
       "      <th>street_suffix</th>\n",
       "      <th>street_post_qual</th>\n",
       "      <th>street_apt_num</th>\n",
       "      <th>class_desc_cat</th>\n",
       "      <th>class_desc_detail</th>\n",
       "    </tr>\n",
       "  </thead>\n",
       "  <tbody>\n",
       "    <tr>\n",
       "      <th>0</th>\n",
       "      <td>... AND SEW ON</td>\n",
       "      <td>52085</td>\n",
       "      <td>25732</td>\n",
       "      <td>BL</td>\n",
       "      <td>BUSINESS LICENSE</td>\n",
       "      <td>SER 28</td>\n",
       "      <td>SERVICE - SEWING/ALTERATIONS</td>\n",
       "      <td>15</td>\n",
       "      <td>IN</td>\n",
       "      <td>INACTIVE</td>\n",
       "      <td>2015-12-16</td>\n",
       "      <td>2015-01-22</td>\n",
       "      <td>2015-08-02</td>\n",
       "      <td>2015-12-31</td>\n",
       "      <td>NaN</td>\n",
       "      <td>52760</td>\n",
       "      <td>601</td>\n",
       "      <td>NaN</td>\n",
       "      <td>NaN</td>\n",
       "      <td>NIKLES</td>\n",
       "      <td>DR</td>\n",
       "      <td>NaN</td>\n",
       "      <td>NaN</td>\n",
       "      <td>SERVICE</td>\n",
       "      <td>SEWING/ALTERATIONS</td>\n",
       "    </tr>\n",
       "    <tr>\n",
       "      <th>1</th>\n",
       "      <td>... AND SEW ON</td>\n",
       "      <td>53948</td>\n",
       "      <td>25732</td>\n",
       "      <td>BL</td>\n",
       "      <td>BUSINESS LICENSE</td>\n",
       "      <td>RET 38</td>\n",
       "      <td>RETAIL - OTHER</td>\n",
       "      <td>16</td>\n",
       "      <td>AC</td>\n",
       "      <td>ACTIVE</td>\n",
       "      <td>2016-03-02</td>\n",
       "      <td>2015-12-16</td>\n",
       "      <td>2016-03-02</td>\n",
       "      <td>2016-12-31</td>\n",
       "      <td>NaN</td>\n",
       "      <td>52760</td>\n",
       "      <td>601</td>\n",
       "      <td>NaN</td>\n",
       "      <td>NaN</td>\n",
       "      <td>NIKLES</td>\n",
       "      <td>DR</td>\n",
       "      <td>NaN</td>\n",
       "      <td>NaN</td>\n",
       "      <td>RETAIL</td>\n",
       "      <td>OTHER</td>\n",
       "    </tr>\n",
       "    <tr>\n",
       "      <th>2</th>\n",
       "      <td>@ YOUR SERVICE</td>\n",
       "      <td>53148</td>\n",
       "      <td>26432</td>\n",
       "      <td>BL</td>\n",
       "      <td>BUSINESS LICENSE</td>\n",
       "      <td>SER 31</td>\n",
       "      <td>SERVICE - OTHER</td>\n",
       "      <td>15</td>\n",
       "      <td>RN</td>\n",
       "      <td>RENEWED</td>\n",
       "      <td>2016-01-13</td>\n",
       "      <td>2015-07-28</td>\n",
       "      <td>2015-10-12</td>\n",
       "      <td>2015-12-31</td>\n",
       "      <td>2016-01-13</td>\n",
       "      <td>84770</td>\n",
       "      <td>100</td>\n",
       "      <td>NaN</td>\n",
       "      <td>NaN</td>\n",
       "      <td>OUT OF CITY LIMITS</td>\n",
       "      <td>ST</td>\n",
       "      <td>NaN</td>\n",
       "      <td>NaN</td>\n",
       "      <td>SERVICE</td>\n",
       "      <td>OTHER</td>\n",
       "    </tr>\n",
       "    <tr>\n",
       "      <th>3</th>\n",
       "      <td>@ YOUR SERVICE</td>\n",
       "      <td>53148</td>\n",
       "      <td>26432</td>\n",
       "      <td>BL</td>\n",
       "      <td>BUSINESS LICENSE</td>\n",
       "      <td>SER 31</td>\n",
       "      <td>SERVICE - OTHER</td>\n",
       "      <td>16</td>\n",
       "      <td>AC</td>\n",
       "      <td>ACTIVE</td>\n",
       "      <td>2016-01-13</td>\n",
       "      <td>2016-01-13</td>\n",
       "      <td>2016-01-13</td>\n",
       "      <td>2016-12-31</td>\n",
       "      <td>NaN</td>\n",
       "      <td>84770</td>\n",
       "      <td>100</td>\n",
       "      <td>NaN</td>\n",
       "      <td>NaN</td>\n",
       "      <td>OUT OF CITY LIMITS</td>\n",
       "      <td>ST</td>\n",
       "      <td>NaN</td>\n",
       "      <td>NaN</td>\n",
       "      <td>SERVICE</td>\n",
       "      <td>OTHER</td>\n",
       "    </tr>\n",
       "    <tr>\n",
       "      <th>4</th>\n",
       "      <td>\"DO ME A PRETTY FAVOR PLEASE!\"</td>\n",
       "      <td>19250</td>\n",
       "      <td>12322</td>\n",
       "      <td>BL</td>\n",
       "      <td>BUSINESS LICENSE</td>\n",
       "      <td>SER 31</td>\n",
       "      <td>SERVICE - OTHER</td>\n",
       "      <td>7</td>\n",
       "      <td>IN</td>\n",
       "      <td>INACTIVE</td>\n",
       "      <td>2008-04-09</td>\n",
       "      <td>2007-04-19</td>\n",
       "      <td>2007-04-19</td>\n",
       "      <td>2007-12-31</td>\n",
       "      <td>NaN</td>\n",
       "      <td>84770</td>\n",
       "      <td>100</td>\n",
       "      <td>NaN</td>\n",
       "      <td>NaN</td>\n",
       "      <td>OUT OF CITY LIMITS</td>\n",
       "      <td>ST</td>\n",
       "      <td>NaN</td>\n",
       "      <td>NaN</td>\n",
       "      <td>SERVICE</td>\n",
       "      <td>OTHER</td>\n",
       "    </tr>\n",
       "  </tbody>\n",
       "</table>\n",
       "</div>"
      ],
      "text/plain": [
       "                         biz_name  license_num  control_num resp_dept_code  \\\n",
       "0                  ... AND SEW ON        52085        25732             BL   \n",
       "1                  ... AND SEW ON        53948        25732             BL   \n",
       "2                  @ YOUR SERVICE        53148        26432             BL   \n",
       "3                  @ YOUR SERVICE        53148        26432             BL   \n",
       "4  \"DO ME A PRETTY FAVOR PLEASE!\"        19250        12322             BL   \n",
       "\n",
       "    resp_dept_descr class_code                   class_descr  fiscal_year  \\\n",
       "0  BUSINESS LICENSE     SER 28  SERVICE - SEWING/ALTERATIONS           15   \n",
       "1  BUSINESS LICENSE     RET 38                RETAIL - OTHER           16   \n",
       "2  BUSINESS LICENSE     SER 31               SERVICE - OTHER           15   \n",
       "3  BUSINESS LICENSE     SER 31               SERVICE - OTHER           16   \n",
       "4  BUSINESS LICENSE     SER 31               SERVICE - OTHER            7   \n",
       "\n",
       "  license_status code_descr status_date application_date  issue_date  \\\n",
       "0             IN   INACTIVE  2015-12-16       2015-01-22  2015-08-02   \n",
       "1             AC     ACTIVE  2016-03-02       2015-12-16  2016-03-02   \n",
       "2             RN    RENEWED  2016-01-13       2015-07-28  2015-10-12   \n",
       "3             AC     ACTIVE  2016-01-13       2016-01-13  2016-01-13   \n",
       "4             IN   INACTIVE  2008-04-09       2007-04-19  2007-04-19   \n",
       "\n",
       "  licen_exp_date  renew_date  location_id  street_num street_pre_qual  \\\n",
       "0     2015-12-31         NaN        52760         601             NaN   \n",
       "1     2016-12-31         NaN        52760         601             NaN   \n",
       "2     2015-12-31  2016-01-13        84770         100             NaN   \n",
       "3     2016-12-31         NaN        84770         100             NaN   \n",
       "4     2007-12-31         NaN        84770         100             NaN   \n",
       "\n",
       "  street_dir_code         street_name street_suffix street_post_qual  \\\n",
       "0             NaN              NIKLES            DR              NaN   \n",
       "1             NaN              NIKLES            DR              NaN   \n",
       "2             NaN  OUT OF CITY LIMITS            ST              NaN   \n",
       "3             NaN  OUT OF CITY LIMITS            ST              NaN   \n",
       "4             NaN  OUT OF CITY LIMITS            ST              NaN   \n",
       "\n",
       "  street_apt_num class_desc_cat   class_desc_detail  \n",
       "0            NaN        SERVICE  SEWING/ALTERATIONS  \n",
       "1            NaN         RETAIL               OTHER  \n",
       "2            NaN        SERVICE               OTHER  \n",
       "3            NaN        SERVICE               OTHER  \n",
       "4            NaN        SERVICE               OTHER  "
      ]
     },
     "execution_count": 4,
     "metadata": {},
     "output_type": "execute_result"
    }
   ],
   "source": [
    "print df.columns\n",
    "df.head()"
   ]
  },
  {
   "cell_type": "code",
   "execution_count": null,
   "metadata": {
    "collapsed": false
   },
   "outputs": [],
   "source": [
    "# df_16 = df[df['fiscal_year'] == 16]"
   ]
  },
  {
   "cell_type": "code",
   "execution_count": null,
   "metadata": {
    "collapsed": false
   },
   "outputs": [],
   "source": [
    "# len(df_16)"
   ]
  },
  {
   "cell_type": "code",
   "execution_count": null,
   "metadata": {
    "collapsed": false
   },
   "outputs": [],
   "source": [
    "# years = df['fiscal_year'].unique()\n",
    "\n",
    "# prev_year = 2823\n",
    "# for year in range(2, 16):\n",
    "#     num = len(df[df['fiscal_year'] == year])\n",
    "#     print year, num, num / prev_year * 100 - 100\n",
    "#     prev_year = num"
   ]
  },
  {
   "cell_type": "code",
   "execution_count": null,
   "metadata": {
    "collapsed": false
   },
   "outputs": [],
   "source": [
    "# df_16['class_descr'].unique()"
   ]
  },
  {
   "cell_type": "code",
   "execution_count": null,
   "metadata": {
    "collapsed": false
   },
   "outputs": [],
   "source": [
    "# grouped = df_16.groupby(['class_desc_cat', 'class_desc_detail']).agg({'license_num': 'count'})\n",
    "# grouped.reset_index().sort_values(['class_desc_cat', 'license_num'], ascending=[True, False])\n",
    "# # SEEMS TO DROP BUSINESSES W/ NaN class_desc_detail\n",
    "\n",
    "# df_16['class_descr'].value_counts()"
   ]
  },
  {
   "cell_type": "code",
   "execution_count": null,
   "metadata": {
    "collapsed": false
   },
   "outputs": [],
   "source": [
    "# df_16[df_16['class_descr'] == 'SERVICE - OTHER']"
   ]
  },
  {
   "cell_type": "code",
   "execution_count": null,
   "metadata": {
    "collapsed": true
   },
   "outputs": [],
   "source": [
    "df[df['street_name'].str.contains('MAIN')]"
   ]
  },
  {
   "cell_type": "code",
   "execution_count": null,
   "metadata": {
    "collapsed": true
   },
   "outputs": [],
   "source": []
  }
 ],
 "metadata": {
  "kernelspec": {
   "display_name": "Python 2",
   "language": "python",
   "name": "python2"
  },
  "language_info": {
   "codemirror_mode": {
    "name": "ipython",
    "version": 2
   },
   "file_extension": ".py",
   "mimetype": "text/x-python",
   "name": "python",
   "nbconvert_exporter": "python",
   "pygments_lexer": "ipython2",
   "version": "2.7.12"
  }
 },
 "nbformat": 4,
 "nbformat_minor": 0
}
