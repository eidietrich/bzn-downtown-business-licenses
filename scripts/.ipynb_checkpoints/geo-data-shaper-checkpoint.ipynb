{
 "cells": [
  {
   "cell_type": "code",
   "execution_count": null,
   "metadata": {
    "collapsed": true
   },
   "outputs": [],
   "source": [
    "# Attach location IDs for properties to addresses/tax codes that can be used to match them to city parcels"
   ]
  },
  {
   "cell_type": "code",
   "execution_count": 11,
   "metadata": {
    "collapsed": false
   },
   "outputs": [],
   "source": [
    "import pandas as pd\n",
    "import geopandas as gpd"
   ]
  },
  {
   "cell_type": "code",
   "execution_count": 12,
   "metadata": {
    "collapsed": true
   },
   "outputs": [],
   "source": [
    "taxing = pd.read_excel('./../raw-data/assessments_eric_chronicle_2016-01-28.xlsx', )"
   ]
  },
  {
   "cell_type": "code",
   "execution_count": 66,
   "metadata": {
    "collapsed": false
   },
   "outputs": [
    {
     "ename": "ValueError",
     "evalue": "cannot convert float NaN to integer",
     "output_type": "error",
     "traceback": [
      "\u001b[0;31m---------------------------------------------------------------------------\u001b[0m",
      "\u001b[0;31mValueError\u001b[0m                                Traceback (most recent call last)",
      "\u001b[0;32m<ipython-input-66-fff0752acfae>\u001b[0m in \u001b[0;36m<module>\u001b[0;34m()\u001b[0m\n\u001b[0;32m----> 1\u001b[0;31m \u001b[0mtaxing\u001b[0m\u001b[0;34m[\u001b[0m\u001b[0;34m'street_num'\u001b[0m\u001b[0;34m]\u001b[0m \u001b[0;34m=\u001b[0m \u001b[0mtaxing\u001b[0m\u001b[0;34m[\u001b[0m\u001b[0;34m'ABABTX'\u001b[0m\u001b[0;34m]\u001b[0m\u001b[0;34m.\u001b[0m\u001b[0mapply\u001b[0m\u001b[0;34m(\u001b[0m\u001b[0;32mlambda\u001b[0m \u001b[0mx\u001b[0m\u001b[0;34m:\u001b[0m \u001b[0mstr\u001b[0m\u001b[0;34m(\u001b[0m\u001b[0mint\u001b[0m\u001b[0;34m(\u001b[0m\u001b[0mx\u001b[0m\u001b[0;34m)\u001b[0m\u001b[0;34m)\u001b[0m\u001b[0;34m)\u001b[0m\u001b[0;34m\u001b[0m\u001b[0m\n\u001b[0m\u001b[1;32m      2\u001b[0m \u001b[0;34m\u001b[0m\u001b[0m\n\u001b[1;32m      3\u001b[0m \u001b[0;32mdef\u001b[0m \u001b[0mstr_not_nan\u001b[0m\u001b[0;34m(\u001b[0m\u001b[0mvalue\u001b[0m\u001b[0;34m)\u001b[0m\u001b[0;34m:\u001b[0m\u001b[0;34m\u001b[0m\u001b[0m\n\u001b[1;32m      4\u001b[0m     \u001b[0;32mif\u001b[0m \u001b[0mpd\u001b[0m\u001b[0;34m.\u001b[0m\u001b[0misnull\u001b[0m\u001b[0;34m(\u001b[0m\u001b[0mvalue\u001b[0m\u001b[0;34m)\u001b[0m\u001b[0;34m:\u001b[0m\u001b[0;34m\u001b[0m\u001b[0m\n\u001b[1;32m      5\u001b[0m         \u001b[0;32mreturn\u001b[0m \u001b[0;34m\"\"\u001b[0m\u001b[0;34m\u001b[0m\u001b[0m\n",
      "\u001b[0;32m/Users/ericdietrich/anaconda/lib/python2.7/site-packages/pandas/core/series.pyc\u001b[0m in \u001b[0;36mapply\u001b[0;34m(self, func, convert_dtype, args, **kwds)\u001b[0m\n\u001b[1;32m   2292\u001b[0m             \u001b[0;32melse\u001b[0m\u001b[0;34m:\u001b[0m\u001b[0;34m\u001b[0m\u001b[0m\n\u001b[1;32m   2293\u001b[0m                 \u001b[0mvalues\u001b[0m \u001b[0;34m=\u001b[0m \u001b[0mself\u001b[0m\u001b[0;34m.\u001b[0m\u001b[0masobject\u001b[0m\u001b[0;34m\u001b[0m\u001b[0m\n\u001b[0;32m-> 2294\u001b[0;31m                 \u001b[0mmapped\u001b[0m \u001b[0;34m=\u001b[0m \u001b[0mlib\u001b[0m\u001b[0;34m.\u001b[0m\u001b[0mmap_infer\u001b[0m\u001b[0;34m(\u001b[0m\u001b[0mvalues\u001b[0m\u001b[0;34m,\u001b[0m \u001b[0mf\u001b[0m\u001b[0;34m,\u001b[0m \u001b[0mconvert\u001b[0m\u001b[0;34m=\u001b[0m\u001b[0mconvert_dtype\u001b[0m\u001b[0;34m)\u001b[0m\u001b[0;34m\u001b[0m\u001b[0m\n\u001b[0m\u001b[1;32m   2295\u001b[0m \u001b[0;34m\u001b[0m\u001b[0m\n\u001b[1;32m   2296\u001b[0m         \u001b[0;32mif\u001b[0m \u001b[0mlen\u001b[0m\u001b[0;34m(\u001b[0m\u001b[0mmapped\u001b[0m\u001b[0;34m)\u001b[0m \u001b[0;32mand\u001b[0m \u001b[0misinstance\u001b[0m\u001b[0;34m(\u001b[0m\u001b[0mmapped\u001b[0m\u001b[0;34m[\u001b[0m\u001b[0;36m0\u001b[0m\u001b[0;34m]\u001b[0m\u001b[0;34m,\u001b[0m \u001b[0mSeries\u001b[0m\u001b[0;34m)\u001b[0m\u001b[0;34m:\u001b[0m\u001b[0;34m\u001b[0m\u001b[0m\n",
      "\u001b[0;32mpandas/src/inference.pyx\u001b[0m in \u001b[0;36mpandas.lib.map_infer (pandas/lib.c:66124)\u001b[0;34m()\u001b[0m\n",
      "\u001b[0;32m<ipython-input-66-fff0752acfae>\u001b[0m in \u001b[0;36m<lambda>\u001b[0;34m(x)\u001b[0m\n\u001b[0;32m----> 1\u001b[0;31m \u001b[0mtaxing\u001b[0m\u001b[0;34m[\u001b[0m\u001b[0;34m'street_num'\u001b[0m\u001b[0;34m]\u001b[0m \u001b[0;34m=\u001b[0m \u001b[0mtaxing\u001b[0m\u001b[0;34m[\u001b[0m\u001b[0;34m'ABABTX'\u001b[0m\u001b[0;34m]\u001b[0m\u001b[0;34m.\u001b[0m\u001b[0mapply\u001b[0m\u001b[0;34m(\u001b[0m\u001b[0;32mlambda\u001b[0m \u001b[0mx\u001b[0m\u001b[0;34m:\u001b[0m \u001b[0mstr\u001b[0m\u001b[0;34m(\u001b[0m\u001b[0mint\u001b[0m\u001b[0;34m(\u001b[0m\u001b[0mx\u001b[0m\u001b[0;34m)\u001b[0m\u001b[0;34m)\u001b[0m\u001b[0;34m)\u001b[0m\u001b[0;34m\u001b[0m\u001b[0m\n\u001b[0m\u001b[1;32m      2\u001b[0m \u001b[0;34m\u001b[0m\u001b[0m\n\u001b[1;32m      3\u001b[0m \u001b[0;32mdef\u001b[0m \u001b[0mstr_not_nan\u001b[0m\u001b[0;34m(\u001b[0m\u001b[0mvalue\u001b[0m\u001b[0;34m)\u001b[0m\u001b[0;34m:\u001b[0m\u001b[0;34m\u001b[0m\u001b[0m\n\u001b[1;32m      4\u001b[0m     \u001b[0;32mif\u001b[0m \u001b[0mpd\u001b[0m\u001b[0;34m.\u001b[0m\u001b[0misnull\u001b[0m\u001b[0;34m(\u001b[0m\u001b[0mvalue\u001b[0m\u001b[0;34m)\u001b[0m\u001b[0;34m:\u001b[0m\u001b[0;34m\u001b[0m\u001b[0m\n\u001b[1;32m      5\u001b[0m         \u001b[0;32mreturn\u001b[0m \u001b[0;34m\"\"\u001b[0m\u001b[0;34m\u001b[0m\u001b[0m\n",
      "\u001b[0;31mValueError\u001b[0m: cannot convert float NaN to integer"
     ]
    }
   ],
   "source": [
    "taxing['street_num'] = taxing['ABABTX'].apply(lambda x: str(int(x)))\n",
    "\n",
    "def str_int_not_nan(value):\n",
    "    if pd.notnull(value):\n",
    "        return str(int(value))\n",
    "    else return None\n",
    "\n",
    "def str_not_nan(value):\n",
    "    if pd.isnull(value):\n",
    "        return \"\"\n",
    "    else:\n",
    "        return str(value)\n",
    "keys = ['street_num', 'ABCHCD', 'ABACCD', 'ABAECD', 'ABFXCD', 'ABDFCD']\n",
    "\n",
    "taxing['t_address'] = taxing[keys].apply(lambda x: ' '.join(x.map(str_not_nan)), axis=1)"
   ]
  },
  {
   "cell_type": "code",
   "execution_count": 14,
   "metadata": {
    "collapsed": false
   },
   "outputs": [
    {
     "name": "stdout",
     "output_type": "stream",
     "text": [
      "Index([   u'ABADTX',    u'ABAUCD',    u'TXTXY4',    u'TXRASD',    u'TXRADS',\n",
      "          u'ABABTX',    u'ABEMCD',    u'ABCHCD',    u'ABACCD',    u'ABAECD',\n",
      "          u'ABFXCD',    u'ABEPCD',    u'ABDFCD',    u'ABBPCD',  u'TXTAXA01',\n",
      "       u't_address'],\n",
      "      dtype='object')\n"
     ]
    },
    {
     "data": {
      "text/html": [
       "<div>\n",
       "<table border=\"1\" class=\"dataframe\">\n",
       "  <thead>\n",
       "    <tr style=\"text-align: right;\">\n",
       "      <th></th>\n",
       "      <th>ABADTX</th>\n",
       "      <th>ABAUCD</th>\n",
       "      <th>TXTXY4</th>\n",
       "      <th>TXRASD</th>\n",
       "      <th>TXRADS</th>\n",
       "      <th>ABABTX</th>\n",
       "      <th>ABEMCD</th>\n",
       "      <th>ABCHCD</th>\n",
       "      <th>ABACCD</th>\n",
       "      <th>ABAECD</th>\n",
       "      <th>ABFXCD</th>\n",
       "      <th>ABEPCD</th>\n",
       "      <th>ABDFCD</th>\n",
       "      <th>ABBPCD</th>\n",
       "      <th>TXTAXA01</th>\n",
       "      <th>t_address</th>\n",
       "    </tr>\n",
       "  </thead>\n",
       "  <tbody>\n",
       "    <tr>\n",
       "      <th>0</th>\n",
       "      <td>NaN</td>\n",
       "      <td>3930.0</td>\n",
       "      <td>2010.0</td>\n",
       "      <td>STREET</td>\n",
       "      <td>STREET MAINTENANCE</td>\n",
       "      <td>310.0</td>\n",
       "      <td>-314</td>\n",
       "      <td>S</td>\n",
       "      <td>TRACY</td>\n",
       "      <td>AVE</td>\n",
       "      <td>NaN</td>\n",
       "      <td>NaN</td>\n",
       "      <td>NaN</td>\n",
       "      <td>59715</td>\n",
       "      <td>126.68</td>\n",
       "      <td>314 S TRACY AVE</td>\n",
       "    </tr>\n",
       "    <tr>\n",
       "      <th>1</th>\n",
       "      <td>NaN</td>\n",
       "      <td>3930.0</td>\n",
       "      <td>2010.0</td>\n",
       "      <td>TREE</td>\n",
       "      <td>TREE MAINTENANCE</td>\n",
       "      <td>310.0</td>\n",
       "      <td>-314</td>\n",
       "      <td>S</td>\n",
       "      <td>TRACY</td>\n",
       "      <td>AVE</td>\n",
       "      <td>NaN</td>\n",
       "      <td>NaN</td>\n",
       "      <td>NaN</td>\n",
       "      <td>59715</td>\n",
       "      <td>24.30</td>\n",
       "      <td>314 S TRACY AVE</td>\n",
       "    </tr>\n",
       "    <tr>\n",
       "      <th>2</th>\n",
       "      <td>NaN</td>\n",
       "      <td>14090.0</td>\n",
       "      <td>2010.0</td>\n",
       "      <td>STREET</td>\n",
       "      <td>STREET MAINTENANCE</td>\n",
       "      <td>103.0</td>\n",
       "      <td>-111</td>\n",
       "      <td>S</td>\n",
       "      <td>4TH</td>\n",
       "      <td>AVE</td>\n",
       "      <td>NaN</td>\n",
       "      <td>NaN</td>\n",
       "      <td>NaN</td>\n",
       "      <td>59715</td>\n",
       "      <td>42.23</td>\n",
       "      <td>111 S 4TH AVE</td>\n",
       "    </tr>\n",
       "    <tr>\n",
       "      <th>3</th>\n",
       "      <td>NaN</td>\n",
       "      <td>14090.0</td>\n",
       "      <td>2010.0</td>\n",
       "      <td>STREET</td>\n",
       "      <td>STREET MAINTENANCE</td>\n",
       "      <td>103.0</td>\n",
       "      <td>-111</td>\n",
       "      <td>S</td>\n",
       "      <td>4TH</td>\n",
       "      <td>AVE</td>\n",
       "      <td>NaN</td>\n",
       "      <td>NaN</td>\n",
       "      <td>NaN</td>\n",
       "      <td>59715</td>\n",
       "      <td>42.23</td>\n",
       "      <td>111 S 4TH AVE</td>\n",
       "    </tr>\n",
       "    <tr>\n",
       "      <th>4</th>\n",
       "      <td>NaN</td>\n",
       "      <td>14090.0</td>\n",
       "      <td>2010.0</td>\n",
       "      <td>TREE</td>\n",
       "      <td>TREE MAINTENANCE</td>\n",
       "      <td>103.0</td>\n",
       "      <td>-111</td>\n",
       "      <td>S</td>\n",
       "      <td>4TH</td>\n",
       "      <td>AVE</td>\n",
       "      <td>NaN</td>\n",
       "      <td>NaN</td>\n",
       "      <td>NaN</td>\n",
       "      <td>59715</td>\n",
       "      <td>8.10</td>\n",
       "      <td>111 S 4TH AVE</td>\n",
       "    </tr>\n",
       "  </tbody>\n",
       "</table>\n",
       "</div>"
      ],
      "text/plain": [
       "  ABADTX   ABAUCD  TXTXY4  TXRASD              TXRADS  ABABTX ABEMCD ABCHCD  \\\n",
       "0    NaN   3930.0  2010.0  STREET  STREET MAINTENANCE   310.0   -314      S   \n",
       "1    NaN   3930.0  2010.0    TREE    TREE MAINTENANCE   310.0   -314      S   \n",
       "2    NaN  14090.0  2010.0  STREET  STREET MAINTENANCE   103.0   -111      S   \n",
       "3    NaN  14090.0  2010.0  STREET  STREET MAINTENANCE   103.0   -111      S   \n",
       "4    NaN  14090.0  2010.0    TREE    TREE MAINTENANCE   103.0   -111      S   \n",
       "\n",
       "  ABACCD ABAECD ABFXCD ABEPCD ABDFCD ABBPCD  TXTAXA01          t_address  \n",
       "0  TRACY    AVE    NaN    NaN    NaN  59715    126.68  314 S TRACY AVE    \n",
       "1  TRACY    AVE    NaN    NaN    NaN  59715     24.30  314 S TRACY AVE    \n",
       "2    4TH    AVE    NaN    NaN    NaN  59715     42.23    111 S 4TH AVE    \n",
       "3    4TH    AVE    NaN    NaN    NaN  59715     42.23    111 S 4TH AVE    \n",
       "4    4TH    AVE    NaN    NaN    NaN  59715      8.10    111 S 4TH AVE    "
      ]
     },
     "execution_count": 14,
     "metadata": {},
     "output_type": "execute_result"
    }
   ],
   "source": [
    "print taxing.columns\n",
    "taxing.head()"
   ]
  },
  {
   "cell_type": "code",
   "execution_count": 15,
   "metadata": {
    "collapsed": false
   },
   "outputs": [],
   "source": [
    "def to_string(value):\n",
    "    if pd.isnull(value):\n",
    "        return None\n",
    "    else:\n",
    "        return str(int(value))\n",
    "\n",
    "taxing['ABAUCD'] = taxing['ABAUCD'].apply(to_string)"
   ]
  },
  {
   "cell_type": "code",
   "execution_count": null,
   "metadata": {
    "collapsed": false
   },
   "outputs": [],
   "source": [
    "taxing['TXTXY4'].unique()"
   ]
  },
  {
   "cell_type": "code",
   "execution_count": 16,
   "metadata": {
    "collapsed": false
   },
   "outputs": [
    {
     "name": "stderr",
     "output_type": "stream",
     "text": [
      "/Users/ericdietrich/anaconda/lib/python2.7/site-packages/IPython/kernel/__main__.py:1: UserWarning: Boolean Series key will be reindexed to match DataFrame index.\n",
      "  if __name__ == '__main__':\n"
     ]
    }
   ],
   "source": [
    "df = taxing[['ABADTX','ABAUCD']][taxing['TXTXY4'] == 2016][pd.notnull(taxing['ABADTX'])]"
   ]
  },
  {
   "cell_type": "code",
   "execution_count": 17,
   "metadata": {
    "collapsed": false
   },
   "outputs": [],
   "source": [
    "df = df.drop_duplicates()\n",
    "df.rename(columns={'ABADTX': 'tax_code', 'ABAUCD': 'parcel_id'}, inplace=True)"
   ]
  },
  {
   "cell_type": "code",
   "execution_count": null,
   "metadata": {
    "collapsed": false
   },
   "outputs": [],
   "source": [
    "df.to_csv('./../geodata/code-to-parcel.csv')"
   ]
  },
  {
   "cell_type": "code",
   "execution_count": 27,
   "metadata": {
    "collapsed": false
   },
   "outputs": [
    {
     "data": {
      "text/html": [
       "<div>\n",
       "<table border=\"1\" class=\"dataframe\">\n",
       "  <thead>\n",
       "    <tr style=\"text-align: right;\">\n",
       "      <th></th>\n",
       "      <th>tax_code</th>\n",
       "      <th>parcel_id</th>\n",
       "    </tr>\n",
       "  </thead>\n",
       "  <tbody>\n",
       "    <tr>\n",
       "      <th>1130</th>\n",
       "      <td>ALDER</td>\n",
       "      <td>218380</td>\n",
       "    </tr>\n",
       "    <tr>\n",
       "      <th>1142</th>\n",
       "      <td>BAXMPH4OPN</td>\n",
       "      <td>209670</td>\n",
       "    </tr>\n",
       "    <tr>\n",
       "      <th>1173</th>\n",
       "      <td>MDWCRJ453C</td>\n",
       "      <td>229100</td>\n",
       "    </tr>\n",
       "    <tr>\n",
       "      <th>1193</th>\n",
       "      <td>MMM5944</td>\n",
       "      <td>85350</td>\n",
       "    </tr>\n",
       "    <tr>\n",
       "      <th>1215</th>\n",
       "      <td>MMM5946</td>\n",
       "      <td>85370</td>\n",
       "    </tr>\n",
       "  </tbody>\n",
       "</table>\n",
       "</div>"
      ],
      "text/plain": [
       "        tax_code parcel_id\n",
       "1130       ALDER    218380\n",
       "1142  BAXMPH4OPN    209670\n",
       "1173  MDWCRJ453C    229100\n",
       "1193     MMM5944     85350\n",
       "1215     MMM5946     85370"
      ]
     },
     "execution_count": 27,
     "metadata": {},
     "output_type": "execute_result"
    }
   ],
   "source": [
    "df.head()"
   ]
  },
  {
   "cell_type": "code",
   "execution_count": null,
   "metadata": {
    "collapsed": false
   },
   "outputs": [],
   "source": [
    "%ls ./../geodata"
   ]
  },
  {
   "cell_type": "code",
   "execution_count": 23,
   "metadata": {
    "collapsed": false
   },
   "outputs": [],
   "source": [
    "gdf = gpd.read_file('./../geodata/parcels.shp')"
   ]
  },
  {
   "cell_type": "code",
   "execution_count": 24,
   "metadata": {
    "collapsed": false
   },
   "outputs": [],
   "source": [
    "gdf = gdf[['LANDUSE','TAXCODE','geometry']]"
   ]
  },
  {
   "cell_type": "code",
   "execution_count": 26,
   "metadata": {
    "collapsed": false
   },
   "outputs": [
    {
     "data": {
      "text/html": [
       "<div>\n",
       "<table border=\"1\" class=\"dataframe\">\n",
       "  <thead>\n",
       "    <tr style=\"text-align: right;\">\n",
       "      <th></th>\n",
       "      <th>LANDUSE</th>\n",
       "      <th>TAXCODE</th>\n",
       "      <th>geometry</th>\n",
       "    </tr>\n",
       "  </thead>\n",
       "  <tbody>\n",
       "    <tr>\n",
       "      <th>0</th>\n",
       "      <td>SFR</td>\n",
       "      <td>RGH6557</td>\n",
       "      <td>POLYGON ((-111.0371702908188 45.66023004384551...</td>\n",
       "    </tr>\n",
       "    <tr>\n",
       "      <th>1</th>\n",
       "      <td>SFR</td>\n",
       "      <td>RGH3077</td>\n",
       "      <td>POLYGON ((-111.0340748253462 45.66463963759285...</td>\n",
       "    </tr>\n",
       "    <tr>\n",
       "      <th>2</th>\n",
       "      <td>DTR</td>\n",
       "      <td>RGG67424</td>\n",
       "      <td>POLYGON ((-111.1077146074659 45.69007381260906...</td>\n",
       "    </tr>\n",
       "    <tr>\n",
       "      <th>3</th>\n",
       "      <td>SFR</td>\n",
       "      <td>RFH40712</td>\n",
       "      <td>POLYGON ((-111.0300231015683 45.71168717926448...</td>\n",
       "    </tr>\n",
       "    <tr>\n",
       "      <th>4</th>\n",
       "      <td>SFR</td>\n",
       "      <td>RGG31355</td>\n",
       "      <td>POLYGON ((-111.0840284781531 45.68188000765788...</td>\n",
       "    </tr>\n",
       "  </tbody>\n",
       "</table>\n",
       "</div>"
      ],
      "text/plain": [
       "  LANDUSE   TAXCODE                                           geometry\n",
       "0     SFR   RGH6557  POLYGON ((-111.0371702908188 45.66023004384551...\n",
       "1     SFR   RGH3077  POLYGON ((-111.0340748253462 45.66463963759285...\n",
       "2     DTR  RGG67424  POLYGON ((-111.1077146074659 45.69007381260906...\n",
       "3     SFR  RFH40712  POLYGON ((-111.0300231015683 45.71168717926448...\n",
       "4     SFR  RGG31355  POLYGON ((-111.0840284781531 45.68188000765788..."
      ]
     },
     "execution_count": 26,
     "metadata": {},
     "output_type": "execute_result"
    }
   ],
   "source": [
    "gdf.head()"
   ]
  },
  {
   "cell_type": "code",
   "execution_count": null,
   "metadata": {
    "collapsed": false
   },
   "outputs": [],
   "source": []
  },
  {
   "cell_type": "code",
   "execution_count": 57,
   "metadata": {
    "collapsed": false
   },
   "outputs": [],
   "source": [
    "combined = gdf.merge(df, left_on='TAXCODE', right_on='tax_code', how='left')"
   ]
  },
  {
   "cell_type": "code",
   "execution_count": 58,
   "metadata": {
    "collapsed": false
   },
   "outputs": [],
   "source": [
    "combined = combined[['TAXCODE','parcel_id', 'LANDUSE','geometry']]"
   ]
  },
  {
   "cell_type": "code",
   "execution_count": 59,
   "metadata": {
    "collapsed": false
   },
   "outputs": [
    {
     "data": {
      "text/plain": [
       "15045"
      ]
     },
     "execution_count": 59,
     "metadata": {},
     "output_type": "execute_result"
    }
   ],
   "source": [
    "len(combined)"
   ]
  },
  {
   "cell_type": "code",
   "execution_count": 60,
   "metadata": {
    "collapsed": false
   },
   "outputs": [
    {
     "data": {
      "text/html": [
       "<div>\n",
       "<table border=\"1\" class=\"dataframe\">\n",
       "  <thead>\n",
       "    <tr style=\"text-align: right;\">\n",
       "      <th></th>\n",
       "      <th>TAXCODE</th>\n",
       "      <th>parcel_id</th>\n",
       "      <th>LANDUSE</th>\n",
       "      <th>geometry</th>\n",
       "    </tr>\n",
       "  </thead>\n",
       "  <tbody>\n",
       "    <tr>\n",
       "      <th>0</th>\n",
       "      <td>RGH6557</td>\n",
       "      <td>35940</td>\n",
       "      <td>SFR</td>\n",
       "      <td>POLYGON ((-111.0371702908188 45.66023004384551...</td>\n",
       "    </tr>\n",
       "    <tr>\n",
       "      <th>1</th>\n",
       "      <td>RGH3077</td>\n",
       "      <td>48090</td>\n",
       "      <td>SFR</td>\n",
       "      <td>POLYGON ((-111.0340748253462 45.66463963759285...</td>\n",
       "    </tr>\n",
       "    <tr>\n",
       "      <th>2</th>\n",
       "      <td>RGG67424</td>\n",
       "      <td>234090</td>\n",
       "      <td>DTR</td>\n",
       "      <td>POLYGON ((-111.1077146074659 45.69007381260906...</td>\n",
       "    </tr>\n",
       "    <tr>\n",
       "      <th>3</th>\n",
       "      <td>RFH40712</td>\n",
       "      <td>141780</td>\n",
       "      <td>SFR</td>\n",
       "      <td>POLYGON ((-111.0300231015683 45.71168717926448...</td>\n",
       "    </tr>\n",
       "    <tr>\n",
       "      <th>4</th>\n",
       "      <td>RGG31355</td>\n",
       "      <td>61560</td>\n",
       "      <td>SFR</td>\n",
       "      <td>POLYGON ((-111.0840284781531 45.68188000765788...</td>\n",
       "    </tr>\n",
       "  </tbody>\n",
       "</table>\n",
       "</div>"
      ],
      "text/plain": [
       "    TAXCODE parcel_id LANDUSE  \\\n",
       "0   RGH6557     35940     SFR   \n",
       "1   RGH3077     48090     SFR   \n",
       "2  RGG67424    234090     DTR   \n",
       "3  RFH40712    141780     SFR   \n",
       "4  RGG31355     61560     SFR   \n",
       "\n",
       "                                            geometry  \n",
       "0  POLYGON ((-111.0371702908188 45.66023004384551...  \n",
       "1  POLYGON ((-111.0340748253462 45.66463963759285...  \n",
       "2  POLYGON ((-111.1077146074659 45.69007381260906...  \n",
       "3  POLYGON ((-111.0300231015683 45.71168717926448...  \n",
       "4  POLYGON ((-111.0840284781531 45.68188000765788...  "
      ]
     },
     "execution_count": 60,
     "metadata": {},
     "output_type": "execute_result"
    }
   ],
   "source": [
    "combined.head()"
   ]
  },
  {
   "cell_type": "code",
   "execution_count": 61,
   "metadata": {
    "collapsed": true
   },
   "outputs": [],
   "source": [
    "combined.to_file('./../geodata/parcels-merged.shp')"
   ]
  },
  {
   "cell_type": "code",
   "execution_count": null,
   "metadata": {
    "collapsed": true
   },
   "outputs": [],
   "source": []
  },
  {
   "cell_type": "code",
   "execution_count": null,
   "metadata": {
    "collapsed": true
   },
   "outputs": [],
   "source": []
  },
  {
   "cell_type": "code",
   "execution_count": 65,
   "metadata": {
    "collapsed": false
   },
   "outputs": [
    {
     "data": {
      "text/plain": [
       "2016-01-02 00:00:00    439\n",
       "B                      171\n",
       "A                      167\n",
       "-11                    144\n",
       "D                      105\n",
       "C                      105\n",
       "E                       90\n",
       "F                       60\n",
       "-15                     56\n",
       "-1215                   50\n",
       "-22                     44\n",
       "-38                     44\n",
       "-39                     44\n",
       "-308                    44\n",
       "-30                     44\n",
       "-1022                   44\n",
       "-311                    43\n",
       "-113                    43\n",
       "& 133                   43\n",
       "-134                    43\n",
       "-23                     42\n",
       "-524                    37\n",
       "-307                    37\n",
       "-204                    37\n",
       "-7                      37\n",
       "-4088                   36\n",
       "-523                    30\n",
       "-306                    30\n",
       "-1921                   30\n",
       "-1830                   29\n",
       "                      ... \n",
       "-1008                   15\n",
       "-819                    15\n",
       "-773                    15\n",
       "-737                    15\n",
       "-760                    15\n",
       "-759                    15\n",
       "-817                    15\n",
       "-738                    15\n",
       "-4089                   14\n",
       "-111                     8\n",
       "-1196                    5\n",
       "-5163                    4\n",
       "-5191                    4\n",
       "-5519                    4\n",
       "-1060                    3\n",
       "-1098                    3\n",
       "-1085                    3\n",
       "-1042                    3\n",
       "-1057                    3\n",
       "-1080                    3\n",
       "-1035                    3\n",
       "-1020                    3\n",
       "-1017                    3\n",
       "-720                     3\n",
       "-1002                    3\n",
       "-980                     3\n",
       "-314                     2\n",
       "-5059                    2\n",
       "-5025                    2\n",
       "-5099                    2\n",
       "Name: ABEMCD, dtype: int64"
      ]
     },
     "execution_count": 65,
     "metadata": {},
     "output_type": "execute_result"
    }
   ],
   "source": [
    "taxing['ABEMCD'].value_counts()"
   ]
  },
  {
   "cell_type": "code",
   "execution_count": null,
   "metadata": {
    "collapsed": true
   },
   "outputs": [],
   "source": []
  }
 ],
 "metadata": {
  "kernelspec": {
   "display_name": "Python 2",
   "language": "python",
   "name": "python2"
  },
  "language_info": {
   "codemirror_mode": {
    "name": "ipython",
    "version": 2
   },
   "file_extension": ".py",
   "mimetype": "text/x-python",
   "name": "python",
   "nbconvert_exporter": "python",
   "pygments_lexer": "ipython2",
   "version": "2.7.12"
  }
 },
 "nbformat": 4,
 "nbformat_minor": 0
}
