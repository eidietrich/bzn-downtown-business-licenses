{
 "cells": [
  {
   "cell_type": "code",
   "execution_count": null,
   "metadata": {
    "collapsed": true
   },
   "outputs": [],
   "source": [
    "# Attach location IDs for properties to addresses/tax codes that can be used to match them to city parcels"
   ]
  },
  {
   "cell_type": "code",
   "execution_count": 1,
   "metadata": {
    "collapsed": false
   },
   "outputs": [],
   "source": [
    "import pandas as pd\n",
    "import geopandas as gpd"
   ]
  },
  {
   "cell_type": "code",
   "execution_count": 33,
   "metadata": {
    "collapsed": false
   },
   "outputs": [],
   "source": [
    "taxing = pd.read_csv('./../raw-data/assessments_eric_chronicle_2016-01-28.csv',\n",
    "                      dtype={'TXTXY4': str, 'ABAUCD': str, 'ABABTX': str})"
   ]
  },
  {
   "cell_type": "code",
   "execution_count": 34,
   "metadata": {
    "collapsed": true
   },
   "outputs": [],
   "source": [
    "taxing = taxing.rename(columns={'ABADTX': 'tax_code',\n",
    "                                'ABAUCD': 'parcel_id',\n",
    "                                'TXTXY4': 'year',\n",
    "                                'ABABTX': 'street_num',\n",
    "                                'ABCHCD': 'street_dir',\n",
    "                                'ABACCD': 'street_name',\n",
    "                                'ABAECD': 'street_desc'\n",
    "                                })"
   ]
  },
  {
   "cell_type": "code",
   "execution_count": 35,
   "metadata": {
    "collapsed": false
   },
   "outputs": [
    {
     "name": "stdout",
     "output_type": "stream",
     "text": [
      "Index([u'tax_code', u'parcel_id', u'year', u'TXRASD', u'TXRADS', u'street_num',\n",
      "       u'ABEMCD', u'street_dir', u'street_name', u'street_desc', u'ABFXCD',\n",
      "       u'ABEPCD', u'ABDFCD', u'ABBPCD', u' TXTAXA01 '],\n",
      "      dtype='object')\n"
     ]
    },
    {
     "data": {
      "text/html": [
       "<div>\n",
       "<table border=\"1\" class=\"dataframe\">\n",
       "  <thead>\n",
       "    <tr style=\"text-align: right;\">\n",
       "      <th></th>\n",
       "      <th>tax_code</th>\n",
       "      <th>parcel_id</th>\n",
       "      <th>year</th>\n",
       "      <th>TXRASD</th>\n",
       "      <th>TXRADS</th>\n",
       "      <th>street_num</th>\n",
       "      <th>ABEMCD</th>\n",
       "      <th>street_dir</th>\n",
       "      <th>street_name</th>\n",
       "      <th>street_desc</th>\n",
       "      <th>ABFXCD</th>\n",
       "      <th>ABEPCD</th>\n",
       "      <th>ABDFCD</th>\n",
       "      <th>ABBPCD</th>\n",
       "      <th>TXTAXA01</th>\n",
       "    </tr>\n",
       "  </thead>\n",
       "  <tbody>\n",
       "    <tr>\n",
       "      <th>0</th>\n",
       "      <td>NaN</td>\n",
       "      <td>3930</td>\n",
       "      <td>2010</td>\n",
       "      <td>STREET</td>\n",
       "      <td>STREET MAINTENANCE</td>\n",
       "      <td>310</td>\n",
       "      <td>-314</td>\n",
       "      <td>S</td>\n",
       "      <td>TRACY</td>\n",
       "      <td>AVE</td>\n",
       "      <td>NaN</td>\n",
       "      <td>NaN</td>\n",
       "      <td>NaN</td>\n",
       "      <td>59715</td>\n",
       "      <td>$126.68</td>\n",
       "    </tr>\n",
       "    <tr>\n",
       "      <th>1</th>\n",
       "      <td>NaN</td>\n",
       "      <td>3930</td>\n",
       "      <td>2010</td>\n",
       "      <td>TREE</td>\n",
       "      <td>TREE MAINTENANCE</td>\n",
       "      <td>310</td>\n",
       "      <td>-314</td>\n",
       "      <td>S</td>\n",
       "      <td>TRACY</td>\n",
       "      <td>AVE</td>\n",
       "      <td>NaN</td>\n",
       "      <td>NaN</td>\n",
       "      <td>NaN</td>\n",
       "      <td>59715</td>\n",
       "      <td>$24.30</td>\n",
       "    </tr>\n",
       "    <tr>\n",
       "      <th>2</th>\n",
       "      <td>NaN</td>\n",
       "      <td>14090</td>\n",
       "      <td>2010</td>\n",
       "      <td>STREET</td>\n",
       "      <td>STREET MAINTENANCE</td>\n",
       "      <td>103</td>\n",
       "      <td>-111</td>\n",
       "      <td>S</td>\n",
       "      <td>4TH</td>\n",
       "      <td>AVE</td>\n",
       "      <td>NaN</td>\n",
       "      <td>NaN</td>\n",
       "      <td>NaN</td>\n",
       "      <td>59715</td>\n",
       "      <td>$42.23</td>\n",
       "    </tr>\n",
       "    <tr>\n",
       "      <th>3</th>\n",
       "      <td>NaN</td>\n",
       "      <td>14090</td>\n",
       "      <td>2010</td>\n",
       "      <td>STREET</td>\n",
       "      <td>STREET MAINTENANCE</td>\n",
       "      <td>103</td>\n",
       "      <td>-111</td>\n",
       "      <td>S</td>\n",
       "      <td>4TH</td>\n",
       "      <td>AVE</td>\n",
       "      <td>NaN</td>\n",
       "      <td>NaN</td>\n",
       "      <td>NaN</td>\n",
       "      <td>59715</td>\n",
       "      <td>$42.23</td>\n",
       "    </tr>\n",
       "    <tr>\n",
       "      <th>4</th>\n",
       "      <td>NaN</td>\n",
       "      <td>14090</td>\n",
       "      <td>2010</td>\n",
       "      <td>TREE</td>\n",
       "      <td>TREE MAINTENANCE</td>\n",
       "      <td>103</td>\n",
       "      <td>-111</td>\n",
       "      <td>S</td>\n",
       "      <td>4TH</td>\n",
       "      <td>AVE</td>\n",
       "      <td>NaN</td>\n",
       "      <td>NaN</td>\n",
       "      <td>NaN</td>\n",
       "      <td>59715</td>\n",
       "      <td>$8.10</td>\n",
       "    </tr>\n",
       "  </tbody>\n",
       "</table>\n",
       "</div>"
      ],
      "text/plain": [
       "  tax_code parcel_id  year  TXRASD              TXRADS street_num ABEMCD  \\\n",
       "0      NaN      3930  2010  STREET  STREET MAINTENANCE        310   -314   \n",
       "1      NaN      3930  2010    TREE    TREE MAINTENANCE        310   -314   \n",
       "2      NaN     14090  2010  STREET  STREET MAINTENANCE        103   -111   \n",
       "3      NaN     14090  2010  STREET  STREET MAINTENANCE        103   -111   \n",
       "4      NaN     14090  2010    TREE    TREE MAINTENANCE        103   -111   \n",
       "\n",
       "  street_dir street_name street_desc ABFXCD ABEPCD ABDFCD ABBPCD  TXTAXA01   \n",
       "0          S       TRACY         AVE    NaN    NaN    NaN  59715   $126.68   \n",
       "1          S       TRACY         AVE    NaN    NaN    NaN  59715    $24.30   \n",
       "2          S         4TH         AVE    NaN    NaN    NaN  59715    $42.23   \n",
       "3          S         4TH         AVE    NaN    NaN    NaN  59715    $42.23   \n",
       "4          S         4TH         AVE    NaN    NaN    NaN  59715     $8.10   "
      ]
     },
     "execution_count": 35,
     "metadata": {},
     "output_type": "execute_result"
    }
   ],
   "source": [
    "print taxing.columns\n",
    "taxing.head()"
   ]
  },
  {
   "cell_type": "code",
   "execution_count": null,
   "metadata": {
    "collapsed": false
   },
   "outputs": [],
   "source": [
    "# def str_int_not_nan(value):\n",
    "#     if pd.notnull(value):\n",
    "#         return str(int(value))\n",
    "#     else: return None\n",
    "\n",
    "# taxing['street_num'] = taxing['ABABTX'].apply(str_int_not_nan)\n",
    "\n",
    "# def str_not_nan(value):\n",
    "#     if pd.isnull(value):\n",
    "#         return \"\"\n",
    "#     else:\n",
    "#         return str(value)\n",
    "# keys = ['street_num', 'ABCHCD', 'ABACCD', 'ABAECD', 'ABFXCD', 'ABDFCD']\n",
    "\n",
    "# taxing['t_address'] = taxing[keys].apply(lambda x: ' '.join(x.map(str_not_nan)), axis=1)"
   ]
  },
  {
   "cell_type": "code",
   "execution_count": 36,
   "metadata": {
    "collapsed": false
   },
   "outputs": [],
   "source": [
    "taxing = taxing[taxing['year'] == '2016']"
   ]
  },
  {
   "cell_type": "code",
   "execution_count": 38,
   "metadata": {
    "collapsed": false
   },
   "outputs": [],
   "source": [
    "def str_not_nan(value):\n",
    "    if pd.isnull(value):\n",
    "        return \"\"\n",
    "    else:\n",
    "        return str(value)\n",
    "\n",
    "addr_keys = ['street_num', 'street_dir', 'street_name', 'street_desc']\n",
    "taxing['address'] = taxing[addr_keys].apply(lambda x: str.strip(' '.join(x.map(str_not_nan))), axis=1)"
   ]
  },
  {
   "cell_type": "code",
   "execution_count": 39,
   "metadata": {
    "collapsed": false
   },
   "outputs": [
    {
     "data": {
      "text/html": [
       "<div>\n",
       "<table border=\"1\" class=\"dataframe\">\n",
       "  <thead>\n",
       "    <tr style=\"text-align: right;\">\n",
       "      <th></th>\n",
       "      <th>tax_code</th>\n",
       "      <th>parcel_id</th>\n",
       "      <th>year</th>\n",
       "      <th>TXRASD</th>\n",
       "      <th>TXRADS</th>\n",
       "      <th>street_num</th>\n",
       "      <th>ABEMCD</th>\n",
       "      <th>street_dir</th>\n",
       "      <th>street_name</th>\n",
       "      <th>street_desc</th>\n",
       "      <th>ABFXCD</th>\n",
       "      <th>ABEPCD</th>\n",
       "      <th>ABDFCD</th>\n",
       "      <th>ABBPCD</th>\n",
       "      <th>TXTAXA01</th>\n",
       "      <th>address</th>\n",
       "    </tr>\n",
       "  </thead>\n",
       "  <tbody>\n",
       "    <tr>\n",
       "      <th>116</th>\n",
       "      <td>NaN</td>\n",
       "      <td>119540</td>\n",
       "      <td>2016</td>\n",
       "      <td>ACSD</td>\n",
       "      <td>ARTERIAL &amp; COLLECTOR</td>\n",
       "      <td>2771</td>\n",
       "      <td>NaN</td>\n",
       "      <td>NaN</td>\n",
       "      <td>FEN</td>\n",
       "      <td>WAY</td>\n",
       "      <td>NaN</td>\n",
       "      <td>NaN</td>\n",
       "      <td>NaN</td>\n",
       "      <td>59718</td>\n",
       "      <td>$21.53</td>\n",
       "      <td>2771  FEN WAY</td>\n",
       "    </tr>\n",
       "    <tr>\n",
       "      <th>117</th>\n",
       "      <td>NaN</td>\n",
       "      <td>119540</td>\n",
       "      <td>2016</td>\n",
       "      <td>ACSD</td>\n",
       "      <td>ARTERIAL &amp; COLLECTOR</td>\n",
       "      <td>2771</td>\n",
       "      <td>NaN</td>\n",
       "      <td>NaN</td>\n",
       "      <td>FEN</td>\n",
       "      <td>WAY</td>\n",
       "      <td>NaN</td>\n",
       "      <td>NaN</td>\n",
       "      <td>NaN</td>\n",
       "      <td>59718</td>\n",
       "      <td>$21.53</td>\n",
       "      <td>2771  FEN WAY</td>\n",
       "    </tr>\n",
       "    <tr>\n",
       "      <th>118</th>\n",
       "      <td>NaN</td>\n",
       "      <td>119540</td>\n",
       "      <td>2016</td>\n",
       "      <td>SILD 690</td>\n",
       "      <td>SILD: CATTAIL CREEK PH 2 &amp; 3</td>\n",
       "      <td>2771</td>\n",
       "      <td>NaN</td>\n",
       "      <td>NaN</td>\n",
       "      <td>FEN</td>\n",
       "      <td>WAY</td>\n",
       "      <td>NaN</td>\n",
       "      <td>NaN</td>\n",
       "      <td>NaN</td>\n",
       "      <td>59718</td>\n",
       "      <td>$347.12</td>\n",
       "      <td>2771  FEN WAY</td>\n",
       "    </tr>\n",
       "    <tr>\n",
       "      <th>119</th>\n",
       "      <td>NaN</td>\n",
       "      <td>119540</td>\n",
       "      <td>2016</td>\n",
       "      <td>STREET</td>\n",
       "      <td>STREET MAINTENANCE</td>\n",
       "      <td>2771</td>\n",
       "      <td>NaN</td>\n",
       "      <td>NaN</td>\n",
       "      <td>FEN</td>\n",
       "      <td>WAY</td>\n",
       "      <td>NaN</td>\n",
       "      <td>NaN</td>\n",
       "      <td>NaN</td>\n",
       "      <td>59718</td>\n",
       "      <td>$142.13</td>\n",
       "      <td>2771  FEN WAY</td>\n",
       "    </tr>\n",
       "    <tr>\n",
       "      <th>120</th>\n",
       "      <td>NaN</td>\n",
       "      <td>119540</td>\n",
       "      <td>2016</td>\n",
       "      <td>STREET</td>\n",
       "      <td>STREET MAINTENANCE</td>\n",
       "      <td>2771</td>\n",
       "      <td>NaN</td>\n",
       "      <td>NaN</td>\n",
       "      <td>FEN</td>\n",
       "      <td>WAY</td>\n",
       "      <td>NaN</td>\n",
       "      <td>NaN</td>\n",
       "      <td>NaN</td>\n",
       "      <td>59718</td>\n",
       "      <td>$142.13</td>\n",
       "      <td>2771  FEN WAY</td>\n",
       "    </tr>\n",
       "  </tbody>\n",
       "</table>\n",
       "</div>"
      ],
      "text/plain": [
       "    tax_code parcel_id  year    TXRASD                        TXRADS  \\\n",
       "116      NaN    119540  2016      ACSD          ARTERIAL & COLLECTOR   \n",
       "117      NaN    119540  2016      ACSD          ARTERIAL & COLLECTOR   \n",
       "118      NaN    119540  2016  SILD 690  SILD: CATTAIL CREEK PH 2 & 3   \n",
       "119      NaN    119540  2016    STREET            STREET MAINTENANCE   \n",
       "120      NaN    119540  2016    STREET            STREET MAINTENANCE   \n",
       "\n",
       "    street_num ABEMCD street_dir street_name street_desc ABFXCD ABEPCD ABDFCD  \\\n",
       "116       2771    NaN        NaN         FEN         WAY    NaN    NaN    NaN   \n",
       "117       2771    NaN        NaN         FEN         WAY    NaN    NaN    NaN   \n",
       "118       2771    NaN        NaN         FEN         WAY    NaN    NaN    NaN   \n",
       "119       2771    NaN        NaN         FEN         WAY    NaN    NaN    NaN   \n",
       "120       2771    NaN        NaN         FEN         WAY    NaN    NaN    NaN   \n",
       "\n",
       "    ABBPCD  TXTAXA01         address  \n",
       "116  59718    $21.53   2771  FEN WAY  \n",
       "117  59718    $21.53   2771  FEN WAY  \n",
       "118  59718   $347.12   2771  FEN WAY  \n",
       "119  59718   $142.13   2771  FEN WAY  \n",
       "120  59718   $142.13   2771  FEN WAY  "
      ]
     },
     "execution_count": 39,
     "metadata": {},
     "output_type": "execute_result"
    }
   ],
   "source": [
    "taxing.head()"
   ]
  },
  {
   "cell_type": "code",
   "execution_count": null,
   "metadata": {
    "collapsed": false
   },
   "outputs": [],
   "source": [
    "# def to_string(value):\n",
    "#     if pd.isnull(value):\n",
    "#         return None\n",
    "#     else:\n",
    "#         return str(int(value))\n",
    "\n",
    "# taxing['ABAUCD'] = taxing['ABAUCD'].apply(to_string)"
   ]
  },
  {
   "cell_type": "code",
   "execution_count": null,
   "metadata": {
    "collapsed": false
   },
   "outputs": [],
   "source": [
    "# taxing['TXTXY4'].unique()"
   ]
  },
  {
   "cell_type": "code",
   "execution_count": 40,
   "metadata": {
    "collapsed": false
   },
   "outputs": [],
   "source": [
    "df = taxing[['tax_code','parcel_id', 'address']]\n",
    "df = df.drop_duplicates()"
   ]
  },
  {
   "cell_type": "code",
   "execution_count": null,
   "metadata": {
    "collapsed": false
   },
   "outputs": [],
   "source": [
    "\n",
    "# df.rename(columns={'ABADTX': 'tax_code', 'ABAUCD': 'parcel_id'}, inplace=True)"
   ]
  },
  {
   "cell_type": "code",
   "execution_count": 42,
   "metadata": {
    "collapsed": false
   },
   "outputs": [],
   "source": [
    "df.to_csv('./../geodata/code-to-parcel.csv')"
   ]
  },
  {
   "cell_type": "code",
   "execution_count": 43,
   "metadata": {
    "collapsed": false
   },
   "outputs": [
    {
     "data": {
      "text/html": [
       "<div>\n",
       "<table border=\"1\" class=\"dataframe\">\n",
       "  <thead>\n",
       "    <tr style=\"text-align: right;\">\n",
       "      <th></th>\n",
       "      <th>tax_code</th>\n",
       "      <th>parcel_id</th>\n",
       "      <th>address</th>\n",
       "    </tr>\n",
       "  </thead>\n",
       "  <tbody>\n",
       "    <tr>\n",
       "      <th>116</th>\n",
       "      <td>NaN</td>\n",
       "      <td>119540</td>\n",
       "      <td>2771  FEN WAY</td>\n",
       "    </tr>\n",
       "    <tr>\n",
       "      <th>147</th>\n",
       "      <td>NaN</td>\n",
       "      <td>133020</td>\n",
       "      <td>0  PARK</td>\n",
       "    </tr>\n",
       "    <tr>\n",
       "      <th>250</th>\n",
       "      <td>NaN</td>\n",
       "      <td>145800</td>\n",
       "      <td>26 E MENDENHALL ST</td>\n",
       "    </tr>\n",
       "    <tr>\n",
       "      <th>310</th>\n",
       "      <td>NaN</td>\n",
       "      <td>173140</td>\n",
       "      <td>0  OPEN SPACE</td>\n",
       "    </tr>\n",
       "    <tr>\n",
       "      <th>338</th>\n",
       "      <td>NaN</td>\n",
       "      <td>173150</td>\n",
       "      <td>0  OPEN SPACE</td>\n",
       "    </tr>\n",
       "  </tbody>\n",
       "</table>\n",
       "</div>"
      ],
      "text/plain": [
       "    tax_code parcel_id             address\n",
       "116      NaN    119540       2771  FEN WAY\n",
       "147      NaN    133020             0  PARK\n",
       "250      NaN    145800  26 E MENDENHALL ST\n",
       "310      NaN    173140       0  OPEN SPACE\n",
       "338      NaN    173150       0  OPEN SPACE"
      ]
     },
     "execution_count": 43,
     "metadata": {},
     "output_type": "execute_result"
    }
   ],
   "source": [
    "df.head()"
   ]
  },
  {
   "cell_type": "code",
   "execution_count": null,
   "metadata": {
    "collapsed": false
   },
   "outputs": [],
   "source": [
    "%ls ./../geodata"
   ]
  },
  {
   "cell_type": "code",
   "execution_count": 44,
   "metadata": {
    "collapsed": false
   },
   "outputs": [],
   "source": [
    "gdf = gpd.read_file('./../geodata/parcels.shp')"
   ]
  },
  {
   "cell_type": "code",
   "execution_count": 45,
   "metadata": {
    "collapsed": false
   },
   "outputs": [],
   "source": [
    "gdf = gdf[['LANDUSE','TAXCODE','geometry']]"
   ]
  },
  {
   "cell_type": "code",
   "execution_count": 47,
   "metadata": {
    "collapsed": false
   },
   "outputs": [],
   "source": [
    "combined = gdf.merge(df, left_on='TAXCODE', right_on='tax_code', how='left')"
   ]
  },
  {
   "cell_type": "code",
   "execution_count": 49,
   "metadata": {
    "collapsed": false
   },
   "outputs": [],
   "source": [
    "combined = combined[['TAXCODE','parcel_id', 'address', 'LANDUSE','geometry']]"
   ]
  },
  {
   "cell_type": "code",
   "execution_count": 51,
   "metadata": {
    "collapsed": false
   },
   "outputs": [
    {
     "data": {
      "text/html": [
       "<div>\n",
       "<table border=\"1\" class=\"dataframe\">\n",
       "  <thead>\n",
       "    <tr style=\"text-align: right;\">\n",
       "      <th></th>\n",
       "      <th>TAXCODE</th>\n",
       "      <th>parcel_id</th>\n",
       "      <th>address</th>\n",
       "      <th>LANDUSE</th>\n",
       "      <th>geometry</th>\n",
       "    </tr>\n",
       "  </thead>\n",
       "  <tbody>\n",
       "    <tr>\n",
       "      <th>0</th>\n",
       "      <td>RGH6557</td>\n",
       "      <td>35940</td>\n",
       "      <td>1902 S TRACY AVE</td>\n",
       "      <td>SFR</td>\n",
       "      <td>POLYGON ((-111.0371702908188 45.66023004384551...</td>\n",
       "    </tr>\n",
       "    <tr>\n",
       "      <th>1</th>\n",
       "      <td>RGH3077</td>\n",
       "      <td>48090</td>\n",
       "      <td>1412 S BOZEMAN AVE</td>\n",
       "      <td>SFR</td>\n",
       "      <td>POLYGON ((-111.0340748253462 45.66463963759285...</td>\n",
       "    </tr>\n",
       "    <tr>\n",
       "      <th>2</th>\n",
       "      <td>RGG67424</td>\n",
       "      <td>234090</td>\n",
       "      <td>1015  ROSA WAY</td>\n",
       "      <td>DTR</td>\n",
       "      <td>POLYGON ((-111.1077146074659 45.69007381260906...</td>\n",
       "    </tr>\n",
       "    <tr>\n",
       "      <th>3</th>\n",
       "      <td>RFH40712</td>\n",
       "      <td>141780</td>\n",
       "      <td>3107  AUGUSTA DR</td>\n",
       "      <td>SFR</td>\n",
       "      <td>POLYGON ((-111.0300231015683 45.71168717926448...</td>\n",
       "    </tr>\n",
       "    <tr>\n",
       "      <th>4</th>\n",
       "      <td>RGG31355</td>\n",
       "      <td>61560</td>\n",
       "      <td>3427  CASCADE ST</td>\n",
       "      <td>SFR</td>\n",
       "      <td>POLYGON ((-111.0840284781531 45.68188000765788...</td>\n",
       "    </tr>\n",
       "  </tbody>\n",
       "</table>\n",
       "</div>"
      ],
      "text/plain": [
       "    TAXCODE parcel_id             address LANDUSE  \\\n",
       "0   RGH6557     35940    1902 S TRACY AVE     SFR   \n",
       "1   RGH3077     48090  1412 S BOZEMAN AVE     SFR   \n",
       "2  RGG67424    234090      1015  ROSA WAY     DTR   \n",
       "3  RFH40712    141780    3107  AUGUSTA DR     SFR   \n",
       "4  RGG31355     61560    3427  CASCADE ST     SFR   \n",
       "\n",
       "                                            geometry  \n",
       "0  POLYGON ((-111.0371702908188 45.66023004384551...  \n",
       "1  POLYGON ((-111.0340748253462 45.66463963759285...  \n",
       "2  POLYGON ((-111.1077146074659 45.69007381260906...  \n",
       "3  POLYGON ((-111.0300231015683 45.71168717926448...  \n",
       "4  POLYGON ((-111.0840284781531 45.68188000765788...  "
      ]
     },
     "execution_count": 51,
     "metadata": {},
     "output_type": "execute_result"
    }
   ],
   "source": [
    "combined.head()"
   ]
  },
  {
   "cell_type": "code",
   "execution_count": 53,
   "metadata": {
    "collapsed": true
   },
   "outputs": [],
   "source": [
    "combined.to_file('./../geodata/parcels-merged.shp')"
   ]
  }
 ],
 "metadata": {
  "kernelspec": {
   "display_name": "Python 2",
   "language": "python",
   "name": "python2"
  },
  "language_info": {
   "codemirror_mode": {
    "name": "ipython",
    "version": 2
   },
   "file_extension": ".py",
   "mimetype": "text/x-python",
   "name": "python",
   "nbconvert_exporter": "python",
   "pygments_lexer": "ipython2",
   "version": "2.7.12"
  }
 },
 "nbformat": 4,
 "nbformat_minor": 0
}
